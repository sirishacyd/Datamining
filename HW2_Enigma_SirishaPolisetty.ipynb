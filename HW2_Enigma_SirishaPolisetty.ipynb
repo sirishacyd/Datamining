{
  "cells": [
    {
      "cell_type": "markdown",
      "metadata": {
        "id": "_EI4Wxp64R_g"
      },
      "source": [
        "`CMPE-255. Fall 2023`\n",
        "\n",
        "# Breaking Enigma\n",
        "The Enigma machine was used by the Germans in WWII to encrypt messages. It used a polyalphabetic substitution cipher to create encrypted text from plain text.\n",
        "Our team of double-0 agents has retrieved one encrypted messages. Our job is to break the code! Or at least, examine the data and generate some statistics on it...\n",
        "\n",
        "\n",
        "\n",
        "##Additional details\n",
        "For this assignment, a simplified Enigma cipher is used. It uses a simple substitution scheme where each letter is replaced by a different letter at a specific, fixed, distance.\n",
        "\n",
        "The space character (' ') is encoded as character '@'."
      ]
    },
    {
      "cell_type": "code",
      "execution_count": null,
      "metadata": {
        "ExecuteTime": {
          "end_time": "2023-03-24T23:11:51.052450Z",
          "start_time": "2023-03-24T23:11:50.569185Z"
        },
        "id": "BwWMYBmd4R_j",
        "tags": []
      },
      "outputs": [],
      "source": [
        "# Libraries - NO OTHER LIBRARY IS ALLOWED FOR THIS HOMEWORK\n",
        "import random\n",
        "import numpy as np\n",
        "import sys\n",
        "import matplotlib.pyplot as plt\n",
        "# DO NOT ADD MORE LIBRARIES"
      ]
    },
    {
      "cell_type": "code",
      "execution_count": null,
      "metadata": {
        "ExecuteTime": {
          "end_time": "2023-03-24T23:01:53.310608Z",
          "start_time": "2023-03-24T23:01:53.303604Z"
        },
        "id": "MGpZLC974R_l",
        "tags": []
      },
      "outputs": [],
      "source": [
        "# Plain text message\n",
        "MESSAGE = \"Sunny with early morning fog high 34C low 15C.\"\n",
        "MESSAGE += \"Admiral Crook arriving to Calais at 1400.\"\n",
        "MESSAGE += \"Prepare a light lunch and a bottle of Chateau Mouton Rothschild 1945.\"\n",
        "MESSAGE += \"God save the King.\"\n",
        "# Alphabet\n",
        "# Use '@' for ' '\n",
        "ALPHABET = \"@.0123456789ABCDEFGHIJKLMNOPQRSTUVWXYZ\""
      ]
    },
    {
      "cell_type": "code",
      "execution_count": null,
      "metadata": {
        "ExecuteTime": {
          "end_time": "2023-03-24T23:03:06.016694Z",
          "start_time": "2023-03-24T23:03:06.003700Z"
        },
        "id": "tI45Glti4R_l",
        "tags": []
      },
      "outputs": [],
      "source": [
        "def transpose_character(character, key):\n",
        "    ''' Return a character that is at a distance 'key'\n",
        "        from the supplied character'''\n",
        "    transposed = ''\n",
        "    # Replace space with '@'\n",
        "    if character == ' ':\n",
        "        character = '@'\n",
        "    # Find character in the alphabet\n",
        "    c_idx = ALPHABET.find(character)\n",
        "    # Identify the character that is at distance 'key'\n",
        "    c_key = key + c_idx\n",
        "    if (c_key >= len(ALPHABET)):\n",
        "        c_key = c_key - len(ALPHABET)\n",
        "\n",
        "    return ALPHABET[c_key]"
      ]
    },
    {
      "cell_type": "code",
      "execution_count": null,
      "metadata": {
        "ExecuteTime": {
          "end_time": "2023-03-24T23:03:06.592853Z",
          "start_time": "2023-03-24T23:03:06.585556Z"
        },
        "id": "0YFyb1Vb4R_l",
        "tags": []
      },
      "outputs": [],
      "source": [
        "def encrypt_message(message, key):\n",
        "    '''Given a plain text message and a key, generate an encrypted message'''\n",
        "    ciphertext = \"\"\n",
        "    for character in message.upper():\n",
        "        ciphertext += transpose_character(character, key)\n",
        "    return ciphertext"
      ]
    },
    {
      "cell_type": "code",
      "execution_count": null,
      "metadata": {
        "ExecuteTime": {
          "end_time": "2023-03-26T18:55:23.793326Z",
          "start_time": "2023-03-26T18:55:23.785231Z"
        },
        "id": "biyiiu7r4R_m",
        "tags": []
      },
      "outputs": [],
      "source": [
        "def decrypt_message(message, key):\n",
        "    ''' Given an encrypted text message and a key, generate a plain text message'''\n",
        "    tmp = \"\"\n",
        "    for character in message.upper():\n",
        "        tmp += transpose_character(character, key)\n",
        "\n",
        "    # Handle 'space'\n",
        "    plaintext = tmp.replace('@', ' ')\n",
        "    return plaintext"
      ]
    },
    {
      "cell_type": "code",
      "execution_count": null,
      "metadata": {
        "ExecuteTime": {
          "end_time": "2023-03-24T23:03:07.166089Z",
          "start_time": "2023-03-24T23:03:07.160388Z"
        },
        "id": "DmNTOgIM4R_m",
        "tags": []
      },
      "outputs": [],
      "source": [
        "def display_plaintext(message):\n",
        "    print (message)"
      ]
    },
    {
      "cell_type": "code",
      "execution_count": null,
      "metadata": {
        "ExecuteTime": {
          "end_time": "2023-03-24T23:04:03.165317Z",
          "start_time": "2023-03-24T23:04:03.151695Z"
        },
        "id": "zoUXHDd_4R_n",
        "tags": []
      },
      "outputs": [],
      "source": [
        "def display_ciphertext(ciphertext):\n",
        "    ''' Display encrypted messages formated in groups and columns'''\n",
        "    c_group = 4\n",
        "    c_cols = 8\n",
        "    c_idx = 0\n",
        "    g_idx = 0\n",
        "    for character in ciphertext:\n",
        "        c_idx += 1\n",
        "        sys.stdout.write(character)\n",
        "        if c_idx == c_group:\n",
        "            sys.stdout.write(\" \")\n",
        "            c_idx = 0\n",
        "            g_idx += 1\n",
        "        if g_idx == c_cols:\n",
        "            sys.stdout.write(\"\\n\")\n",
        "            g_idx = 0\n",
        "\n",
        "    sys.stdout.write(\"\\n\")"
      ]
    },
    {
      "cell_type": "code",
      "execution_count": null,
      "metadata": {
        "ExecuteTime": {
          "end_time": "2023-03-26T19:06:57.875114Z",
          "start_time": "2023-03-26T19:06:57.868694Z"
        },
        "colab": {
          "base_uri": "https://localhost:8080/"
        },
        "id": "IQSwsdoA4R_7",
        "outputId": "1df5c78e-ab56-4934-9d78-5e1a963ea77e",
        "tags": []
      },
      "outputs": [
        {
          "output_type": "stream",
          "name": "stdout",
          "text": [
            "Sunny with early morning fog high 34C low 15C.Admiral Crook arriving to Calais at 1400.Prepare a light lunch and a bottle of Chateau Mouton Rothschild 1945.God save the King.\n"
          ]
        }
      ],
      "source": [
        "plaintext = MESSAGE;\n",
        "ciphertext = encrypt_message(plaintext, 12);\n",
        "display_plaintext(plaintext)"
      ]
    },
    {
      "cell_type": "code",
      "execution_count": null,
      "metadata": {
        "ExecuteTime": {
          "end_time": "2023-03-26T19:07:09.061308Z",
          "start_time": "2023-03-26T19:07:09.028038Z"
        },
        "colab": {
          "base_uri": "https://localhost:8080/"
        },
        "id": "dbXlWZPn4R_8",
        "outputId": "b189a075-8d01-4092-cf30-89d86cb24f78",
        "tags": []
      },
      "outputs": [
        {
          "output_type": "stream",
          "name": "stdout",
          "text": [
            "24ZZ 8A6U 3TAQ M1X8 AY@1 ZUZS AR@S ATUS \n",
            "TAFG OAX@ 6ADH OBMP YU1M XAO1 @@WA M11U \n",
            "5UZS A3@A OMXM U2AM 3ADG CCB. 1Q.M 1QAM \n",
            "AXUS T3AX 4ZOT AMZP AMAN @33X QA@R AOTM \n",
            "3QM4 AY@4 3@ZA 1@3T 2OTU XPAD LGHB S@PA \n",
            "2M5Q A3TQ AWUZ SB\n"
          ]
        }
      ],
      "source": [
        "display_ciphertext(ciphertext)"
      ]
    },
    {
      "cell_type": "code",
      "execution_count": null,
      "metadata": {
        "ExecuteTime": {
          "end_time": "2023-03-26T18:56:07.601957Z",
          "start_time": "2023-03-26T18:56:07.592260Z"
        },
        "colab": {
          "base_uri": "https://localhost:8080/",
          "height": 71
        },
        "id": "uNEQJGgO4R_8",
        "outputId": "789a2f1e-21df-42bd-ea55-57d5034d56ad",
        "tags": []
      },
      "outputs": [
        {
          "output_type": "execute_result",
          "data": {
            "text/plain": [
              "'SUNNY WITH EARLY MORNING FOG HIGH 34C LOW 15C.ADMIRAL CROOK ARRIVING TO CALAIS AT 1400.PREPARE A LIGHT LUNCH AND A BOTTLE OF CHATEAU MOUTON ROTHSCHILD 1945.GOD SAVE THE KING.'"
            ],
            "application/vnd.google.colaboratory.intrinsic+json": {
              "type": "string"
            }
          },
          "metadata": {},
          "execution_count": 10
        }
      ],
      "source": [
        "decrypt_message(ciphertext, -12)"
      ]
    },
    {
      "cell_type": "markdown",
      "metadata": {
        "id": "cLQ6lBlg5uQh",
        "tags": []
      },
      "source": [
        "# Deliverables"
      ]
    },
    {
      "cell_type": "markdown",
      "source": [
        "# 1. Generate statistical measurements on the encrypted message"
      ],
      "metadata": {
        "id": "ohobLDXab79g"
      }
    },
    {
      "cell_type": "markdown",
      "source": [
        "## 1.1. Generate a list of character pairs\n",
        "For the provided ciphertext, define a function `get_character_pairs(ciphertext)` that generates a list of character pairs. For instance, given the ciphertext:\n",
        "```\n",
        "24ZZ 8A6U 3TAQ M1X8 ...\n",
        "```\n",
        "The list of pairs will look like:\n",
        "```\n",
        "['24', '4Z', 'ZZ', 'Z8', '8A', ...]\n",
        "```\n",
        "This will will be used in sections 1.3 and 1.4 below, and can be used in section 2 as well."
      ],
      "metadata": {
        "id": "gwlPRmLgTjHO"
      }
    },
    {
      "cell_type": "code",
      "source": [
        "# Generate a list of character pairs\n",
        "def get_character_pairs(ciphertext):\n",
        "    pairs = []\n",
        "    for i in range(len(ciphertext) - 1):\n",
        "        pairs.append(ciphertext[i:i+2])\n",
        "    return pairs\n",
        "\n",
        "print(get_character_pairs(ciphertext))"
      ],
      "metadata": {
        "id": "54pJmGIakFPU",
        "colab": {
          "base_uri": "https://localhost:8080/"
        },
        "outputId": "ca1482b2-5918-4dba-a744-28be607bba2d"
      },
      "execution_count": null,
      "outputs": [
        {
          "output_type": "stream",
          "name": "stdout",
          "text": [
            "['24', '4Z', 'ZZ', 'Z8', '8A', 'A6', '6U', 'U3', '3T', 'TA', 'AQ', 'QM', 'M1', '1X', 'X8', '8A', 'AY', 'Y@', '@1', '1Z', 'ZU', 'UZ', 'ZS', 'SA', 'AR', 'R@', '@S', 'SA', 'AT', 'TU', 'US', 'ST', 'TA', 'AF', 'FG', 'GO', 'OA', 'AX', 'X@', '@6', '6A', 'AD', 'DH', 'HO', 'OB', 'BM', 'MP', 'PY', 'YU', 'U1', '1M', 'MX', 'XA', 'AO', 'O1', '1@', '@@', '@W', 'WA', 'AM', 'M1', '11', '1U', 'U5', '5U', 'UZ', 'ZS', 'SA', 'A3', '3@', '@A', 'AO', 'OM', 'MX', 'XM', 'MU', 'U2', '2A', 'AM', 'M3', '3A', 'AD', 'DG', 'GC', 'CC', 'CB', 'B.', '.1', '1Q', 'Q.', '.M', 'M1', '1Q', 'QA', 'AM', 'MA', 'AX', 'XU', 'US', 'ST', 'T3', '3A', 'AX', 'X4', '4Z', 'ZO', 'OT', 'TA', 'AM', 'MZ', 'ZP', 'PA', 'AM', 'MA', 'AN', 'N@', '@3', '33', '3X', 'XQ', 'QA', 'A@', '@R', 'RA', 'AO', 'OT', 'TM', 'M3', '3Q', 'QM', 'M4', '4A', 'AY', 'Y@', '@4', '43', '3@', '@Z', 'ZA', 'A1', '1@', '@3', '3T', 'T2', '2O', 'OT', 'TU', 'UX', 'XP', 'PA', 'AD', 'DL', 'LG', 'GH', 'HB', 'BS', 'S@', '@P', 'PA', 'A2', '2M', 'M5', '5Q', 'QA', 'A3', '3T', 'TQ', 'QA', 'AW', 'WU', 'UZ', 'ZS', 'SB']\n"
          ]
        }
      ]
    },
    {
      "cell_type": "markdown",
      "source": [
        "## 1.2. Based on what's known about the encryption algorithm, define a \"distance\" between two characters\n",
        "Create a function `enigma_distance(pair)` that takes an input a pair of characters, and returns the distance between them.\n",
        "Describe how the distance is calculated, and why it  makes sense to calculate it that way, based on what's known about the encryption algorithm.\n",
        "This distance should be used for all other deliverables in this homework."
      ],
      "metadata": {
        "id": "I-QftlPXVpXf"
      }
    },
    {
      "cell_type": "code",
      "source": [
        "# Define a \"distance\" between two characters\n",
        "def enigma_distance(pair):\n",
        "    char1_idx = ALPHABET.find(pair[0])\n",
        "    char2_idx = ALPHABET.find(pair[1])\n",
        "\n",
        "    # The distance is simply the difference in their positions in the alphabet.\n",
        "    distance = abs(char1_idx - char2_idx)\n",
        "    return distance\n",
        "print(enigma_distance('6U'))"
      ],
      "metadata": {
        "id": "tl9cIG2zkRUA",
        "colab": {
          "base_uri": "https://localhost:8080/"
        },
        "outputId": "7e99de84-1255-4436-f08b-959f50cd4239"
      },
      "execution_count": null,
      "outputs": [
        {
          "output_type": "stream",
          "name": "stdout",
          "text": [
            "24\n"
          ]
        }
      ]
    },
    {
      "cell_type": "markdown",
      "metadata": {
        "tags": [],
        "id": "mYlspmJszKqJ"
      },
      "source": [
        "## 1.3. Calculate the average distance between two adjacent characters\n",
        "Using the list of characters pairs generated in 1.1 above, create a function `average_distance(ciphertext)` that calculates the \"average distance\" between character pairs in a ciphertext."
      ]
    },
    {
      "cell_type": "code",
      "source": [
        "def average_distance(ciphertext):\n",
        "    pairs = get_character_pairs(ciphertext)\n",
        "    total_distance = sum([enigma_distance(pair) for pair in pairs])\n",
        "    avg_distance = total_distance / len(pairs)\n",
        "    return avg_distance\n",
        "\n",
        "print(average_distance(ciphertext))"
      ],
      "metadata": {
        "id": "-M4jr8WckWlz",
        "colab": {
          "base_uri": "https://localhost:8080/"
        },
        "outputId": "99a1663b-a212-4e5e-b984-cd36ce5eb703"
      },
      "execution_count": null,
      "outputs": [
        {
          "output_type": "stream",
          "name": "stdout",
          "text": [
            "13.84393063583815\n"
          ]
        }
      ]
    },
    {
      "cell_type": "markdown",
      "metadata": {
        "tags": [],
        "id": "agcb2UCOzKqL"
      },
      "source": [
        "## 1.4. Calculate the min and max distance between two adjacent characters\n",
        "Using the list of character pairs generated in 1.1 above, create a function `min_max_distance(ciphertext)` that calculates the min and max distances between characters in any of the pairs from the list."
      ]
    },
    {
      "cell_type": "code",
      "source": [
        "def min_max_distance(ciphertext):\n",
        "    pairs = get_character_pairs(ciphertext)\n",
        "    distances = [enigma_distance(pair) for pair in pairs]\n",
        "    return min(distances), max(distances)\n",
        "\n",
        "print(min_max_distance(ciphertext))"
      ],
      "metadata": {
        "id": "pFemmEQvkdqH",
        "colab": {
          "base_uri": "https://localhost:8080/"
        },
        "outputId": "70a0f429-b1da-4fdb-aa26-f23d2fbe52be"
      },
      "execution_count": null,
      "outputs": [
        {
          "output_type": "stream",
          "name": "stdout",
          "text": [
            "(0, 37)\n"
          ]
        }
      ]
    },
    {
      "cell_type": "markdown",
      "metadata": {
        "tags": [],
        "id": "JKpt-mDYzKqM"
      },
      "source": [
        "# 2. Compare two encrypted messages"
      ]
    },
    {
      "cell_type": "markdown",
      "source": [
        "## 2.1 Generate two different encrypted messages using different encryption keys"
      ],
      "metadata": {
        "id": "3YrTYcZWcgKQ"
      }
    },
    {
      "cell_type": "code",
      "source": [
        "import random\n",
        "import numpy as np\n",
        "import sys\n",
        "import matplotlib.pyplot as plt\n",
        "# Define ALPHABET again just in case\n",
        "ALPHABET = \"@.0123456789ABCDEFGHIJKLMNOPQRSTUVWXYZ\"\n",
        "\n",
        "def transpose_character(character, key):\n",
        "    ''' Return a character that is at a distance 'key' from the supplied character'''\n",
        "    transposed = ''\n",
        "    # Replace space with '@'\n",
        "    if character == ' ':\n",
        "        character = '@'\n",
        "    # Find character in the alphabet\n",
        "    c_idx = ALPHABET.find(character)\n",
        "    # Identify the character that is at distance 'key'\n",
        "    c_key = key + c_idx\n",
        "    if (c_key >= len(ALPHABET)):\n",
        "        c_key = c_key - len(ALPHABET)\n",
        "    return ALPHABET[c_key]\n",
        "\n",
        "def encrypt_message(message, key):\n",
        "    '''Given a plain text message and a key, generate an encrypted message'''\n",
        "    ciphertext = \"\"\n",
        "    for character in message.upper():\n",
        "        ciphertext += transpose_character(character, key)\n",
        "    return ciphertext\n",
        "\n",
        "\n",
        "\n",
        "\n"
      ],
      "metadata": {
        "id": "i_0502yInwai"
      },
      "execution_count": null,
      "outputs": []
    },
    {
      "cell_type": "code",
      "source": [
        "MESSAGE = \"Sunny with early morning fog high 34C low 15C.\"\n",
        "MESSAGE += \"Admiral Crook arriving to Calais at 1400.\"\n",
        "MESSAGE += \"Prepare a light lunch and a bottle of Chateau Mouton Rothschild 1945.\"\n",
        "MESSAGE += \"God save the King.\"\n",
        "plaintext = MESSAGE;\n",
        "ciphertext1 = encrypt_message(plaintext, 7)\n",
        "ciphertext2 = encrypt_message(plaintext, 15)\n",
        "print(ciphertext1,ciphertext2)"
      ],
      "metadata": {
        "id": "TpTmRjp1uj76",
        "colab": {
          "base_uri": "https://localhost:8080/"
        },
        "outputId": "b86365b5-67c0-4c00-f004-49f64478a1e2"
      },
      "execution_count": null,
      "outputs": [
        {
          "output_type": "stream",
          "name": "stdout",
          "text": [
            "Z.UU351P@O5LHYS35TVYUPUN5MVN5OPNO5ABJ5SV158CJ6HKTPYHS5JYVVR5HYYP0PUN5@V5JHSHPZ5H@58B776WYLWHYL5H5SPNO@5S.UJO5HUK5H5IV@@SL5VM5JOH@LH.5TV.@VU5YV@OZJOPSK58GBC6NVK5ZH0L5@OL5RPUN6 5700BD9X6WDTP4@BD.140X0VDU1VDWXVWDIJRD@19DGKREPS.X4P@DR411ZDP44X8X0VD61DRP@PX5DP6DGJFFE24T2P4TDPD@XVW6D@70RWDP0SDPDQ166@TD1UDRWP6TP7D.17610D416W5RWX@SDGOJKEV1SD5P8TD6WTDZX0VE\n"
          ]
        }
      ]
    },
    {
      "cell_type": "markdown",
      "metadata": {
        "tags": [],
        "id": "68aDWwWBzKqN"
      },
      "source": [
        "## 2.2. Compare both messages by calculating their similarity using the Cosine Similarity when applied to all the pairs of adjacent characters in the messages."
      ]
    },
    {
      "cell_type": "code",
      "source": [
        "def cosine_similarity(vec1, vec2):\n",
        "    dot_product = np.dot(vec1, vec2)\n",
        "    norm1 = np.linalg.norm(vec1)\n",
        "    norm2 = np.linalg.norm(vec2)\n",
        "    if norm1 == 0 or norm2 == 0:\n",
        "        return 0.0  # or return a suitable default value, e.g., NaN\n",
        "    return dot_product / (norm1 * norm2)\n",
        "\n",
        "def get_vector(ciphertext):\n",
        "    pairs = get_character_pairs(ciphertext)\n",
        "    vector = [enigma_distance(pair) for pair in pairs]\n",
        "    return vector\n",
        "\n",
        "vec1 = get_vector(ciphertext1)\n",
        "vec2 = get_vector(ciphertext2)\n",
        "similarity = cosine_similarity(vec1, vec2)\n",
        "print(similarity)"
      ],
      "metadata": {
        "id": "ux6wORg7kzRt",
        "colab": {
          "base_uri": "https://localhost:8080/"
        },
        "outputId": "bf6e53e1-34c9-45ce-9383-698d4da8b3ba"
      },
      "execution_count": null,
      "outputs": [
        {
          "output_type": "stream",
          "name": "stdout",
          "text": [
            "0.7286969275049943\n"
          ]
        }
      ]
    },
    {
      "cell_type": "markdown",
      "metadata": {
        "tags": [],
        "id": "TZcGro51zKqO"
      },
      "source": [
        "## 2.3. Repeat the calculation using the following two sets of inputs:\n",
        "\n",
        "1. The plaintext message for both inputs. The cosine similarity should be \"1\" as it's comparing two identical inputs.\n",
        "2. The following two inputs: `'96SCAF8T'` and `'AAAAAAAA'`. The cosine similarity should be \"0\" as it's comparing two completely orthogonal inputs."
      ]
    },
    {
      "cell_type": "code",
      "source": [
        "vec1 = get_vector(MESSAGE)\n",
        "vec2 = get_vector(MESSAGE)\n",
        "print(cosine_similarity(vec1, vec2))  # Should be 1\n",
        "\n",
        "vec1 = get_vector('96SCAF8T')\n",
        "vec2 = get_vector('AAAAAAAA')\n",
        "\n",
        "print(cosine_similarity(vec1, vec2))  # Should be 0\n"
      ],
      "metadata": {
        "colab": {
          "base_uri": "https://localhost:8080/"
        },
        "id": "lCV8uMMilCIf",
        "outputId": "ee0210a9-5063-44d6-e1fc-22f231ac196d"
      },
      "execution_count": null,
      "outputs": [
        {
          "output_type": "stream",
          "name": "stdout",
          "text": [
            "1.0\n",
            "0.0\n"
          ]
        }
      ]
    },
    {
      "cell_type": "markdown",
      "source": [
        "# 3. Visualize information related to the encrypted data."
      ],
      "metadata": {
        "id": "sOZPcy4JeCYN"
      }
    },
    {
      "cell_type": "markdown",
      "metadata": {
        "tags": [],
        "id": "jb-gDHmvzKqP"
      },
      "source": [
        "## 3.1. Generate ten different encrypted messages of the same or similar length.\n",
        "\n",
        "Updated the `generate_encrypted_messages()` function from above to support a variable number of arguments"
      ]
    },
    {
      "cell_type": "code",
      "source": [
        "def generate_encrypted_messages(plaintext, num_messages=10):\n",
        "    messages = []\n",
        "    for _ in range(num_messages):\n",
        "        key = random.randint(1, len(ALPHABET) - 1)\n",
        "        messages.append(encrypt_message(plaintext, key))\n",
        "    return messages\n",
        "\n",
        "encrypted_messages = generate_encrypted_messages(plaintext)\n",
        "print(encrypted_messages)"
      ],
      "metadata": {
        "id": "X_fm-OC8lTVP",
        "colab": {
          "base_uri": "https://localhost:8080/"
        },
        "outputId": "d3cbcaba-3ac5-4fcc-f317-d9f161fc3900"
      },
      "execution_count": null,
      "outputs": [
        {
          "output_type": "stream",
          "name": "stdout",
          "text": [
            "['@0VV462Q.P6MIZT46UWZVQVO6NWO6PQOP6BCK6TW269DK7ILUQZIT6KZWWS6IZZQ1QVO6.W6KITIQ@6I.69C887XZMXIZM6I6TQOP.6T0VKP6IVL6I6JW..TM6WN6KPI.MI06UW0.WV6ZW.P@KPQTL69HCD7OWL6@I1M6.PM6SQVO7', 'PRKKVXTFQEXB7OIVXJLOKFKDXCLDXEFDEX019XILTX@29Y7AJFO7IX9OLLHX7OOFSFKDXQLX97I7FPX7QX@1ZZYMOBM7OBX7XIFDEQXIRK9EX7KAX7X8LQQIBXLCX9E7QB7RXJLRQLKXOLQEP9EFIAX@612YDLAXP7SBXQEBXHFKDY', '9B44FHD.A@HXT82FH3584.4ZHY5ZH@.Z@HMNVH25DHKOVITW3.8T2HV8551HT88.C.4ZHA5HVT2T.9HTAHKNJJI68X6T8XHTH2.Z@AH2B4V@HT4WHTHU5AA2XH5YHV@TAXTBH35BA54H85A@9V@.2WHKSNOIZ5WH9TCXHA@XH1.4ZI', 'FHAALNJ5G4N1ZE8LN9BEA5A3N2B3N4534NST.N8BJNQU.OZ095EZ8N.EBB7NZEE5I5A3NGBN.Z8Z5FNZGNQTPPOCE1CZE1NZN8534GN8HA.4NZA0NZN@BGG81NB2N.4ZG1ZHN9BHGBANEBG4F.4580NQYTUO3B0NFZI1NG41N75A3O', 'MOHHSUQCNBU84LFSUGILHCHAU9IAUBCABUZ@6UFIQUX.6V47GCL4FU6LIIEU4LLCPCHAUNIU64F4CMU4NUX@WWVJL8J4L8U4UFCABNUFOH6BU4H7U4U5INNF8UI9U6B4N84OUGIONIHULINBM6BCF7UX3@.VAI7UM4P8UNB8UECHAV', 'RTMMXZVHSGZD9QKXZLNQMHMFZENFZGHFGZ23BZKNVZ04B@9CLHQ9KZBQNNJZ9QQHUHMFZSNZB9K9HRZ9SZ03..@OQDO9QDZ9ZKHFGSZKTMBGZ9MCZ9ZANSSKDZNEZBG9SD9TZLNTSNMZQNSGRBGHKCZ0834@FNCZR9UDZSGDZJHMF@', 'AC55GIE0B.IYU93GI469505@IZ6@I.0@.INOWI36EILPWJUX409U3IW9662IU990D05@IB6IWU3U0AIUBILOKKJ79Y7U9YIUI30@.BI3C5W.IU5XIUIV6BB3YI6ZIW.UBYUCI46CB65I96B.AW.03XILTOPJ@6XIAUDYIB.YI205@J', 'QSLLWYUGRFYC8PJWYKMPLGLEYDMEYFGEFY12AYJMUY.3AZ8BKGP8JYAPMMIY8PPGTGLEYRMYA8J8GQY8RY.2@@ZNPCN8PCY8YJGEFRYJSLAFY8LBY8Y9MRRJCYMDYAF8RC8SYKMSRMLYPMRFQAFGJBY.723ZEMBYQ8TCYRFCYIGLEZ', 'BD66HJF1C0JZVA4HJ57A616.J@7.J01.0JOPXJ47FJMQXKVY51AV4JXA773JVAA1E16.JC7JXV4V1BJVCJMPLLK8AZ8VAZJVJ41.0CJ4D6X0JV6YJVJW7CC4ZJ7@JX0VCZVDJ57DC76JA7C0BX014YJMUPQK.7YJBVEZJC0ZJ316.K', '6811CEAY7XEUQ5.CE0251Y1WEV2WEXYWXEJKSE.2AEHLSFQT0Y5Q.ES522@EQ55Y9Y1WE72ESQ.QY6EQ7EHKGGF35U3Q5UEQE.YWX7E.81SXEQ1TEQER277.UE2VESXQ7UQ8E028721E527X6SXY.TEHPKLFW2TE6Q9UE7XUE@Y1WF']\n"
          ]
        }
      ]
    },
    {
      "cell_type": "markdown",
      "metadata": {
        "tags": [],
        "id": "TKzpz3EWzKqP"
      },
      "source": [
        "## 3.2. Using one of the encrypted messages, generate a histogram of the occurrence of each character in the alphabet"
      ]
    },
    {
      "cell_type": "code",
      "source": [
        "def plot_histogram(ciphertext):\n",
        "    char_freq = {}\n",
        "    for char in ALPHABET:\n",
        "        char_freq[char] = ciphertext.count(char)\n",
        "\n",
        "    plt.bar(char_freq.keys(), char_freq.values())\n",
        "    plt.title(\"Character Frequency Histogram\")\n",
        "    plt.xlabel(\"Character\")\n",
        "    plt.ylabel(\"Frequency\")\n",
        "    plt.show()\n",
        "\n",
        "plot_histogram(encrypted_messages[0])\n"
      ],
      "metadata": {
        "colab": {
          "base_uri": "https://localhost:8080/",
          "height": 472
        },
        "id": "3wvjyYKIlm5r",
        "outputId": "517c9995-2a54-4791-b167-fe0317a3a49d"
      },
      "execution_count": null,
      "outputs": [
        {
          "output_type": "display_data",
          "data": {
            "text/plain": [
              "<Figure size 640x480 with 1 Axes>"
            ],
            "image/png": "[encoded data removed]"
          },
          "metadata": {}
        }
      ]
    },
    {
      "cell_type": "markdown",
      "metadata": {
        "tags": [],
        "id": "FUeOFKP2zKqR"
      },
      "source": [
        "## 3.3. Using all ten encrypted messages as data sample, generate a box plot of the frequency of the five vowels of the alphabet"
      ]
    },
    {
      "cell_type": "code",
      "source": [
        "def plot_vowel_boxplot(messages):\n",
        "    vowels = 'AEIOU'\n",
        "    vowel_freq = {v: [] for v in vowels}\n",
        "\n",
        "    for msg in messages:\n",
        "        for vowel in vowels:\n",
        "            vowel_freq[vowel].append(msg.count(vowel))\n",
        "\n",
        "    plt.boxplot(vowel_freq.values(), labels=vowel_freq.keys())\n",
        "    plt.title(\"Vowel Frequencies Boxplot\")\n",
        "    plt.xlabel(\"Vowel\")\n",
        "    plt.ylabel(\"Frequency\")\n",
        "    plt.show()\n",
        "\n",
        "plot_vowel_boxplot(encrypted_messages)\n"
      ],
      "metadata": {
        "colab": {
          "base_uri": "https://localhost:8080/",
          "height": 472
        },
        "id": "raEeuPRSlpoc",
        "outputId": "03f4e931-ec8b-4962-9250-f9f73ff36e14"
      },
      "execution_count": null,
      "outputs": [
        {
          "output_type": "display_data",
          "data": {
            "text/plain": [
              "<Figure size 640x480 with 1 Axes>"
            ],
            "image/png": "[encoded data removed]"
          },
          "metadata": {}
        }
      ]
    },
    {
      "cell_type": "markdown",
      "metadata": {
        "id": "vjqKBviZzKqS"
      },
      "source": [
        "## 4. Would any other measurement of distance or similarity be useful for extracting information from the encrypted message? Why?"
      ]
    },
    {
      "cell_type": "markdown",
      "source": [
        "There are many metrics to measure distance or similarity. Depending on the nature of the encryption, different metrics could provide insights:\n",
        "\n",
        "### Hamming Distance:\n",
        "If the ciphertexts are of equal length and only vary by a few characters, Hamming distance could be useful.\n",
        "\n",
        "### Jaccard Similarity:\n",
        "Useful if you want to measure the similarity between sets of characters in two ciphertexts.\n",
        "\n",
        "### Levenshtein (edit) Distance:\n",
        "Measures the minimum number of edits (insertions, deletions, or substitutions) to change one string into another. Could be useful to understand how much two texts differ.\n",
        "\n",
        "### Euclidean Distance:\n",
        "If the ciphertexts are represented as vectors (like in our cosine similarity), the Euclidean distance can give an idea of how \"far apart\" two ciphertexts are in a vector space.\n",
        "\n",
        "### Entropy:\n",
        "If we measure the entropy of multiple encrypted messages, we could gain insights into the randomness or predictability of the encryption mechanism.\n",
        "\n",
        "\n",
        "\n",
        "In the context of encrypted messages, understanding patterns or regularities can potentially help decrypt the message. Different distance or similarity measures may shed light on these patterns in different ways"
      ],
      "metadata": {
        "id": "fOO8kvmFl12B"
      }
    }
  ],
  "metadata": {
    "colab": {
      "provenance": [],
      "toc_visible": true
    },
    "kernelspec": {
      "display_name": "Python 3 (ipykernel)",
      "language": "python",
      "name": "python3"
    },
    "language_info": {
      "codemirror_mode": {
        "name": "ipython",
        "version": 3
      },
      "file_extension": ".py",
      "mimetype": "text/x-python",
      "name": "python",
      "nbconvert_exporter": "python",
      "pygments_lexer": "ipython3",
      "version": "3.10.10"
    }
  },
  "nbformat": 4,
  "nbformat_minor": 0
}