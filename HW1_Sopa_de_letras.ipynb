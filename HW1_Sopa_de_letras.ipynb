{
  "cells": [
    {
      "cell_type": "markdown",
      "metadata": {
        "id": "O5W8dFan2hH4"
      },
      "source": [
        "`CMPE-255. Fall 2023`\n",
        "\n",
        "# Sopa de Letras\n",
        "Also known as \"Word Search Puzzle\", this game consists of the letters of words placed in a grid. The objective of this puzzle is to find all the words hidden inside the grid."
      ]
    },
    {
      "cell_type": "code",
      "execution_count": null,
      "metadata": {
        "id": "cfakpk7T2hH8"
      },
      "outputs": [],
      "source": [
        "# Libraries - ONLY THIS LIBRARIES ARE ALLOWED FOR THE HOMEWORK\n",
        "import numpy as np\n",
        "import pandas as pd\n",
        "import random\n",
        "import sys\n",
        "# Do not add any other library"
      ]
    },
    {
      "cell_type": "code",
      "execution_count": null,
      "metadata": {
        "id": "kNU4oX6b2hH9"
      },
      "outputs": [],
      "source": [
        "# Soup size\n",
        "DIMENSIONS = (8, 8)\n",
        "# Word to insert in the soup\n",
        "WORD = \"MINING\"\n",
        "# English aphabet\n",
        "ALPHABET = \"ABCDEFGHIJKLMNOPQRSTUVWXYZ\""
      ]
    },
    {
      "cell_type": "code",
      "execution_count": null,
      "metadata": {
        "id": "U1Lulh992hH-"
      },
      "outputs": [],
      "source": [
        "def create_random_broth(dimensions, alphabet):\n",
        "  '''Create a random soup of letters.\n",
        "  Return the soup as a n-dimensional array\n",
        "\n",
        "  dimensions: Tuple with dimensions. E.g., (8, 8, 8) for a 3-D 8x8x8 array\n",
        "  alphabet  : String with alphabet to use for letters in the broth\n",
        "  '''\n",
        "\n",
        "  # Create a multi-dimentional array of random numbers\n",
        "  a = np.random.randint(0, len(alphabet)-1, dimensions)\n",
        "  # Swap numbers in the array with characters from the alphabet\n",
        "  my_dict = dict(zip(range(len(alphabet)), list(alphabet)))\n",
        "  broth = np.vectorize(my_dict.get)(a)\n",
        "\n",
        "  return broth"
      ]
    },
    {
      "cell_type": "code",
      "execution_count": null,
      "metadata": {
        "id": "WeXxAQey2hH-"
      },
      "outputs": [],
      "source": [
        "def add_word_to_broth(broth, word):\n",
        "  '''Add \"word\" at random locations.\n",
        "       Return the updated soup'''\n",
        "\n",
        "  msoup = broth.copy()\n",
        "  dimensions = broth.shape\n",
        "  word_length = len(word)\n",
        "  # Words are inserted as \"lowercase\", so it's easy to check\n",
        "  not_suitable = True\n",
        "  # Check if the randomly-selected insertion point is feasible\n",
        "  max_attempts = 100\n",
        "  while (not_suitable):\n",
        "    max_attempts -= 1\n",
        "    if (max_attempts == 0):\n",
        "      print(\"ERROR - Unable to add word, after 100 attempts\")\n",
        "      return []\n",
        "    # Pick a random start point\n",
        "    start_point = [0] * len(dimensions)\n",
        "    for i in range(len(dimensions)):\n",
        "      start_point[i] = np.random.randint(0, dimensions[i])\n",
        "    end_point = start_point.copy()\n",
        "    # Pick a random dimension to place the word\n",
        "    dim = np.random.randint(0, len(dimensions))\n",
        "    # Calculate the end point of the word along the selected dimension\n",
        "    end_point[dim] = start_point[dim] + len(word) - 1\n",
        "    # Calculate the indexes in the array that the word would use when placed\n",
        "    idx_increment = [0] * len(dimensions)\n",
        "    idx_increment[dim] = 1\n",
        "    indexes = [[start_point[j] + i*idx_increment[j] for j in range(len(start_point))] for i in range(len(word))]\n",
        "\n",
        "    # Check if the word fits in the selected dimension\n",
        "    if end_point[dim] >= dimensions[dim]:\n",
        "      continue\n",
        "    # Check if there is already a word (inserted words are always lowercase)\n",
        "    c = [msoup[tuple(index)] for index in indexes]\n",
        "    s = ''.join(c)\n",
        "    if not s.isupper():\n",
        "      continue\n",
        "\n",
        "    # Add word\n",
        "    for i in range(len(indexes)):\n",
        "      msoup[tuple(indexes[i])] = word[i].lower()\n",
        "\n",
        "    # Done with word\n",
        "    not_suitable = False\n",
        "\n",
        "  return np.char.upper(msoup)"
      ]
    },
    {
      "cell_type": "code",
      "execution_count": null,
      "metadata": {
        "id": "QnPyxGRn2hH_"
      },
      "outputs": [],
      "source": [
        "def create_soup (dimensions, word, alphabet):\n",
        "    '''Create a n-dimensional matrix of random letters (broth),\n",
        "       then add words to it to make a soup.\n",
        "       Return the soup'''\n",
        "\n",
        "    broth = create_random_broth(dimensions, alphabet)\n",
        "    soup  = add_word_to_broth(broth, word)\n",
        "    return soup"
      ]
    },
    {
      "cell_type": "code",
      "execution_count": null,
      "metadata": {
        "id": "6b-1oOmR2hH_"
      },
      "outputs": [],
      "source": [
        "def serve_soup(soup_plate, locations):\n",
        "  '''Return highlighted DataFrame ready for display.\n",
        "  rows and columns are subsets of the dataframe. For instance:\n",
        "  rows = [2], cols = slice(1,6) - Highlight cells in row 2, from column 1 to 5\n",
        "  '''\n",
        "  styler = soup_plate.style\n",
        "  styler.set_properties(**{'text-align': 'center'})\n",
        "  for (rows, cols) in locations:\n",
        "    styler.set_properties(subset=(rows, cols), **{'background': 'yellow'})\n",
        "\n",
        "  return styler\n"
      ]
    },
    {
      "cell_type": "code",
      "source": [
        "def find_word_in_plate(word, soup_plate):\n",
        "  '''Find a word in a 2-dimensional Pandas DataFrame'''\n",
        "\n",
        "  result = []\n",
        "  for icol in soup_plate.columns:\n",
        "    for irow, row in soup_plate.iterrows():\n",
        "      r = is_word_at_location(word, irow, icol, soup_plate)\n",
        "      if r == 'h':\n",
        "        result.append(([irow], slice(icol, icol+len(word)-1)))\n",
        "      if r == 'v':\n",
        "        result.append((slice(irow, irow+len(word)-1), [icol]))\n",
        "\n",
        "  return result\n",
        "\n",
        "\n",
        "def is_word_at_location(word, irow, icol, soup_plate):\n",
        "  '''Examine a DataFrame at location (row, col) and\n",
        "  determine if there is a \"word\"'''\n",
        "\n",
        "  word_size = len(word)\n",
        "\n",
        "  h_size = len(soup_plate.columns) - icol\n",
        "  v_size = len(soup_plate.index) - irow\n",
        "\n",
        "  # Check Horizontal\n",
        "  if h_size >= word_size:\n",
        "    res = True\n",
        "    for i in range(len(word)):\n",
        "      if soup_plate.iloc[irow, icol+i].upper() != word[i].upper(): res = False\n",
        "    if res: return 'h'\n",
        "\n",
        "  # Check Vertical\n",
        "  if v_size >= word_size:\n",
        "    res = True\n",
        "    for i in range(len(word)):\n",
        "      if soup_plate.iloc[irow+i, icol].upper() != word[i].upper(): res = False\n",
        "    if res: return 'v'\n",
        "\n",
        "  return ''"
      ],
      "metadata": {
        "id": "aoKBDzZ8cCuL"
      },
      "execution_count": null,
      "outputs": []
    },
    {
      "cell_type": "code",
      "source": [
        "\n",
        "# Example 1 - Create a 8x8 puzzle, and insert the word \"MINING\".\n",
        "# Find the word and display\n",
        "%%time\n",
        "s = create_soup((8,8), 'MINING', ALPHABET)\n",
        "sl = slice(0, 8)\n",
        "spoon = (sl, sl)\n",
        "plate = pd.DataFrame(s[spoon])\n",
        "words = find_word_in_plate(\"MINING\", plate)\n",
        "print(words)\n",
        "table = serve_soup(plate, words)\n",
        "table"
      ],
      "metadata": {
        "colab": {
          "base_uri": "https://localhost:8080/",
          "height": 354
        },
        "id": "zfNPy6Xz70c3",
        "outputId": "dcafdebb-1acb-4437-efff-424dff536412"
      },
      "execution_count": null,
      "outputs": [
        {
          "output_type": "stream",
          "name": "stdout",
          "text": [
            "[(slice(0, 5, None), [1])]\n",
            "CPU times: user 88.5 ms, sys: 8.74 ms, total: 97.2 ms\n",
            "Wall time: 115 ms\n"
          ]
        },
        {
          "output_type": "execute_result",
          "data": {
            "text/plain": [
              "<pandas.io.formats.style.Styler at 0x7ab9d47ee1d0>"
            ],
            "text/html": [
              "<style type=\"text/css\">\n",
              "#T_830ff_row0_col0, #T_830ff_row0_col2, #T_830ff_row0_col3, #T_830ff_row0_col4, #T_830ff_row0_col5, #T_830ff_row0_col6, #T_830ff_row0_col7, #T_830ff_row1_col0, #T_830ff_row1_col2, #T_830ff_row1_col3, #T_830ff_row1_col4, #T_830ff_row1_col5, #T_830ff_row1_col6, #T_830ff_row1_col7, #T_830ff_row2_col0, #T_830ff_row2_col2, #T_830ff_row2_col3, #T_830ff_row2_col4, #T_830ff_row2_col5, #T_830ff_row2_col6, #T_830ff_row2_col7, #T_830ff_row3_col0, #T_830ff_row3_col2, #T_830ff_row3_col3, #T_830ff_row3_col4, #T_830ff_row3_col5, #T_830ff_row3_col6, #T_830ff_row3_col7, #T_830ff_row4_col0, #T_830ff_row4_col2, #T_830ff_row4_col3, #T_830ff_row4_col4, #T_830ff_row4_col5, #T_830ff_row4_col6, #T_830ff_row4_col7, #T_830ff_row5_col0, #T_830ff_row5_col2, #T_830ff_row5_col3, #T_830ff_row5_col4, #T_830ff_row5_col5, #T_830ff_row5_col6, #T_830ff_row5_col7, #T_830ff_row6_col0, #T_830ff_row6_col1, #T_830ff_row6_col2, #T_830ff_row6_col3, #T_830ff_row6_col4, #T_830ff_row6_col5, #T_830ff_row6_col6, #T_830ff_row6_col7, #T_830ff_row7_col0, #T_830ff_row7_col1, #T_830ff_row7_col2, #T_830ff_row7_col3, #T_830ff_row7_col4, #T_830ff_row7_col5, #T_830ff_row7_col6, #T_830ff_row7_col7 {\n",
              "  text-align: center;\n",
              "}\n",
              "#T_830ff_row0_col1, #T_830ff_row1_col1, #T_830ff_row2_col1, #T_830ff_row3_col1, #T_830ff_row4_col1, #T_830ff_row5_col1 {\n",
              "  text-align: center;\n",
              "  background: yellow;\n",
              "}\n",
              "</style>\n",
              "<table id=\"T_830ff\" class=\"dataframe\">\n",
              "  <thead>\n",
              "    <tr>\n",
              "      <th class=\"blank level0\" >&nbsp;</th>\n",
              "      <th id=\"T_830ff_level0_col0\" class=\"col_heading level0 col0\" >0</th>\n",
              "      <th id=\"T_830ff_level0_col1\" class=\"col_heading level0 col1\" >1</th>\n",
              "      <th id=\"T_830ff_level0_col2\" class=\"col_heading level0 col2\" >2</th>\n",
              "      <th id=\"T_830ff_level0_col3\" class=\"col_heading level0 col3\" >3</th>\n",
              "      <th id=\"T_830ff_level0_col4\" class=\"col_heading level0 col4\" >4</th>\n",
              "      <th id=\"T_830ff_level0_col5\" class=\"col_heading level0 col5\" >5</th>\n",
              "      <th id=\"T_830ff_level0_col6\" class=\"col_heading level0 col6\" >6</th>\n",
              "      <th id=\"T_830ff_level0_col7\" class=\"col_heading level0 col7\" >7</th>\n",
              "    </tr>\n",
              "  </thead>\n",
              "  <tbody>\n",
              "    <tr>\n",
              "      <th id=\"T_830ff_level0_row0\" class=\"row_heading level0 row0\" >0</th>\n",
              "      <td id=\"T_830ff_row0_col0\" class=\"data row0 col0\" >D</td>\n",
              "      <td id=\"T_830ff_row0_col1\" class=\"data row0 col1\" >M</td>\n",
              "      <td id=\"T_830ff_row0_col2\" class=\"data row0 col2\" >D</td>\n",
              "      <td id=\"T_830ff_row0_col3\" class=\"data row0 col3\" >O</td>\n",
              "      <td id=\"T_830ff_row0_col4\" class=\"data row0 col4\" >O</td>\n",
              "      <td id=\"T_830ff_row0_col5\" class=\"data row0 col5\" >Y</td>\n",
              "      <td id=\"T_830ff_row0_col6\" class=\"data row0 col6\" >F</td>\n",
              "      <td id=\"T_830ff_row0_col7\" class=\"data row0 col7\" >I</td>\n",
              "    </tr>\n",
              "    <tr>\n",
              "      <th id=\"T_830ff_level0_row1\" class=\"row_heading level0 row1\" >1</th>\n",
              "      <td id=\"T_830ff_row1_col0\" class=\"data row1 col0\" >M</td>\n",
              "      <td id=\"T_830ff_row1_col1\" class=\"data row1 col1\" >I</td>\n",
              "      <td id=\"T_830ff_row1_col2\" class=\"data row1 col2\" >I</td>\n",
              "      <td id=\"T_830ff_row1_col3\" class=\"data row1 col3\" >U</td>\n",
              "      <td id=\"T_830ff_row1_col4\" class=\"data row1 col4\" >J</td>\n",
              "      <td id=\"T_830ff_row1_col5\" class=\"data row1 col5\" >U</td>\n",
              "      <td id=\"T_830ff_row1_col6\" class=\"data row1 col6\" >N</td>\n",
              "      <td id=\"T_830ff_row1_col7\" class=\"data row1 col7\" >M</td>\n",
              "    </tr>\n",
              "    <tr>\n",
              "      <th id=\"T_830ff_level0_row2\" class=\"row_heading level0 row2\" >2</th>\n",
              "      <td id=\"T_830ff_row2_col0\" class=\"data row2 col0\" >U</td>\n",
              "      <td id=\"T_830ff_row2_col1\" class=\"data row2 col1\" >N</td>\n",
              "      <td id=\"T_830ff_row2_col2\" class=\"data row2 col2\" >K</td>\n",
              "      <td id=\"T_830ff_row2_col3\" class=\"data row2 col3\" >J</td>\n",
              "      <td id=\"T_830ff_row2_col4\" class=\"data row2 col4\" >Y</td>\n",
              "      <td id=\"T_830ff_row2_col5\" class=\"data row2 col5\" >K</td>\n",
              "      <td id=\"T_830ff_row2_col6\" class=\"data row2 col6\" >V</td>\n",
              "      <td id=\"T_830ff_row2_col7\" class=\"data row2 col7\" >Q</td>\n",
              "    </tr>\n",
              "    <tr>\n",
              "      <th id=\"T_830ff_level0_row3\" class=\"row_heading level0 row3\" >3</th>\n",
              "      <td id=\"T_830ff_row3_col0\" class=\"data row3 col0\" >D</td>\n",
              "      <td id=\"T_830ff_row3_col1\" class=\"data row3 col1\" >I</td>\n",
              "      <td id=\"T_830ff_row3_col2\" class=\"data row3 col2\" >I</td>\n",
              "      <td id=\"T_830ff_row3_col3\" class=\"data row3 col3\" >J</td>\n",
              "      <td id=\"T_830ff_row3_col4\" class=\"data row3 col4\" >H</td>\n",
              "      <td id=\"T_830ff_row3_col5\" class=\"data row3 col5\" >R</td>\n",
              "      <td id=\"T_830ff_row3_col6\" class=\"data row3 col6\" >C</td>\n",
              "      <td id=\"T_830ff_row3_col7\" class=\"data row3 col7\" >L</td>\n",
              "    </tr>\n",
              "    <tr>\n",
              "      <th id=\"T_830ff_level0_row4\" class=\"row_heading level0 row4\" >4</th>\n",
              "      <td id=\"T_830ff_row4_col0\" class=\"data row4 col0\" >K</td>\n",
              "      <td id=\"T_830ff_row4_col1\" class=\"data row4 col1\" >N</td>\n",
              "      <td id=\"T_830ff_row4_col2\" class=\"data row4 col2\" >A</td>\n",
              "      <td id=\"T_830ff_row4_col3\" class=\"data row4 col3\" >E</td>\n",
              "      <td id=\"T_830ff_row4_col4\" class=\"data row4 col4\" >D</td>\n",
              "      <td id=\"T_830ff_row4_col5\" class=\"data row4 col5\" >V</td>\n",
              "      <td id=\"T_830ff_row4_col6\" class=\"data row4 col6\" >S</td>\n",
              "      <td id=\"T_830ff_row4_col7\" class=\"data row4 col7\" >H</td>\n",
              "    </tr>\n",
              "    <tr>\n",
              "      <th id=\"T_830ff_level0_row5\" class=\"row_heading level0 row5\" >5</th>\n",
              "      <td id=\"T_830ff_row5_col0\" class=\"data row5 col0\" >F</td>\n",
              "      <td id=\"T_830ff_row5_col1\" class=\"data row5 col1\" >G</td>\n",
              "      <td id=\"T_830ff_row5_col2\" class=\"data row5 col2\" >X</td>\n",
              "      <td id=\"T_830ff_row5_col3\" class=\"data row5 col3\" >T</td>\n",
              "      <td id=\"T_830ff_row5_col4\" class=\"data row5 col4\" >D</td>\n",
              "      <td id=\"T_830ff_row5_col5\" class=\"data row5 col5\" >Q</td>\n",
              "      <td id=\"T_830ff_row5_col6\" class=\"data row5 col6\" >F</td>\n",
              "      <td id=\"T_830ff_row5_col7\" class=\"data row5 col7\" >E</td>\n",
              "    </tr>\n",
              "    <tr>\n",
              "      <th id=\"T_830ff_level0_row6\" class=\"row_heading level0 row6\" >6</th>\n",
              "      <td id=\"T_830ff_row6_col0\" class=\"data row6 col0\" >D</td>\n",
              "      <td id=\"T_830ff_row6_col1\" class=\"data row6 col1\" >D</td>\n",
              "      <td id=\"T_830ff_row6_col2\" class=\"data row6 col2\" >O</td>\n",
              "      <td id=\"T_830ff_row6_col3\" class=\"data row6 col3\" >R</td>\n",
              "      <td id=\"T_830ff_row6_col4\" class=\"data row6 col4\" >Y</td>\n",
              "      <td id=\"T_830ff_row6_col5\" class=\"data row6 col5\" >I</td>\n",
              "      <td id=\"T_830ff_row6_col6\" class=\"data row6 col6\" >B</td>\n",
              "      <td id=\"T_830ff_row6_col7\" class=\"data row6 col7\" >C</td>\n",
              "    </tr>\n",
              "    <tr>\n",
              "      <th id=\"T_830ff_level0_row7\" class=\"row_heading level0 row7\" >7</th>\n",
              "      <td id=\"T_830ff_row7_col0\" class=\"data row7 col0\" >D</td>\n",
              "      <td id=\"T_830ff_row7_col1\" class=\"data row7 col1\" >V</td>\n",
              "      <td id=\"T_830ff_row7_col2\" class=\"data row7 col2\" >O</td>\n",
              "      <td id=\"T_830ff_row7_col3\" class=\"data row7 col3\" >V</td>\n",
              "      <td id=\"T_830ff_row7_col4\" class=\"data row7 col4\" >U</td>\n",
              "      <td id=\"T_830ff_row7_col5\" class=\"data row7 col5\" >X</td>\n",
              "      <td id=\"T_830ff_row7_col6\" class=\"data row7 col6\" >X</td>\n",
              "      <td id=\"T_830ff_row7_col7\" class=\"data row7 col7\" >U</td>\n",
              "    </tr>\n",
              "  </tbody>\n",
              "</table>\n"
            ]
          },
          "metadata": {},
          "execution_count": 8
        }
      ]
    },
    {
      "cell_type": "code",
      "source": [
        "# Example 2 - Create a 8 x 8 x 4 puzzle, and insert the word \"MINING\"\n",
        "# Create a plate (2-d dataframe), and check if the word is there\n",
        "%%time\n",
        "s = create_soup((8,8, 4), 'MINING', ALPHABET)\n",
        "sl = slice(0, 8)\n",
        "spoon = (sl, sl, 0)\n",
        "plate = pd.DataFrame(s[spoon])\n",
        "words = find_word_in_plate(\"MINING\", plate)\n",
        "print(words)\n",
        "table = serve_soup(plate, words)\n",
        "table"
      ],
      "metadata": {
        "colab": {
          "base_uri": "https://localhost:8080/",
          "height": 354
        },
        "id": "oYW5KLQqj8_L",
        "outputId": "798cef17-0d2a-4327-e08e-65957ee83dbd"
      },
      "execution_count": null,
      "outputs": [
        {
          "output_type": "stream",
          "name": "stdout",
          "text": [
            "[]\n",
            "CPU times: user 21.2 ms, sys: 0 ns, total: 21.2 ms\n",
            "Wall time: 25.7 ms\n"
          ]
        },
        {
          "output_type": "execute_result",
          "data": {
            "text/plain": [
              "<pandas.io.formats.style.Styler at 0x7aba0309ec20>"
            ],
            "text/html": [
              "<style type=\"text/css\">\n",
              "#T_00e8c_row0_col0, #T_00e8c_row0_col1, #T_00e8c_row0_col2, #T_00e8c_row0_col3, #T_00e8c_row0_col4, #T_00e8c_row0_col5, #T_00e8c_row0_col6, #T_00e8c_row0_col7, #T_00e8c_row1_col0, #T_00e8c_row1_col1, #T_00e8c_row1_col2, #T_00e8c_row1_col3, #T_00e8c_row1_col4, #T_00e8c_row1_col5, #T_00e8c_row1_col6, #T_00e8c_row1_col7, #T_00e8c_row2_col0, #T_00e8c_row2_col1, #T_00e8c_row2_col2, #T_00e8c_row2_col3, #T_00e8c_row2_col4, #T_00e8c_row2_col5, #T_00e8c_row2_col6, #T_00e8c_row2_col7, #T_00e8c_row3_col0, #T_00e8c_row3_col1, #T_00e8c_row3_col2, #T_00e8c_row3_col3, #T_00e8c_row3_col4, #T_00e8c_row3_col5, #T_00e8c_row3_col6, #T_00e8c_row3_col7, #T_00e8c_row4_col0, #T_00e8c_row4_col1, #T_00e8c_row4_col2, #T_00e8c_row4_col3, #T_00e8c_row4_col4, #T_00e8c_row4_col5, #T_00e8c_row4_col6, #T_00e8c_row4_col7, #T_00e8c_row5_col0, #T_00e8c_row5_col1, #T_00e8c_row5_col2, #T_00e8c_row5_col3, #T_00e8c_row5_col4, #T_00e8c_row5_col5, #T_00e8c_row5_col6, #T_00e8c_row5_col7, #T_00e8c_row6_col0, #T_00e8c_row6_col1, #T_00e8c_row6_col2, #T_00e8c_row6_col3, #T_00e8c_row6_col4, #T_00e8c_row6_col5, #T_00e8c_row6_col6, #T_00e8c_row6_col7, #T_00e8c_row7_col0, #T_00e8c_row7_col1, #T_00e8c_row7_col2, #T_00e8c_row7_col3, #T_00e8c_row7_col4, #T_00e8c_row7_col5, #T_00e8c_row7_col6, #T_00e8c_row7_col7 {\n",
              "  text-align: center;\n",
              "}\n",
              "</style>\n",
              "<table id=\"T_00e8c\" class=\"dataframe\">\n",
              "  <thead>\n",
              "    <tr>\n",
              "      <th class=\"blank level0\" >&nbsp;</th>\n",
              "      <th id=\"T_00e8c_level0_col0\" class=\"col_heading level0 col0\" >0</th>\n",
              "      <th id=\"T_00e8c_level0_col1\" class=\"col_heading level0 col1\" >1</th>\n",
              "      <th id=\"T_00e8c_level0_col2\" class=\"col_heading level0 col2\" >2</th>\n",
              "      <th id=\"T_00e8c_level0_col3\" class=\"col_heading level0 col3\" >3</th>\n",
              "      <th id=\"T_00e8c_level0_col4\" class=\"col_heading level0 col4\" >4</th>\n",
              "      <th id=\"T_00e8c_level0_col5\" class=\"col_heading level0 col5\" >5</th>\n",
              "      <th id=\"T_00e8c_level0_col6\" class=\"col_heading level0 col6\" >6</th>\n",
              "      <th id=\"T_00e8c_level0_col7\" class=\"col_heading level0 col7\" >7</th>\n",
              "    </tr>\n",
              "  </thead>\n",
              "  <tbody>\n",
              "    <tr>\n",
              "      <th id=\"T_00e8c_level0_row0\" class=\"row_heading level0 row0\" >0</th>\n",
              "      <td id=\"T_00e8c_row0_col0\" class=\"data row0 col0\" >F</td>\n",
              "      <td id=\"T_00e8c_row0_col1\" class=\"data row0 col1\" >E</td>\n",
              "      <td id=\"T_00e8c_row0_col2\" class=\"data row0 col2\" >A</td>\n",
              "      <td id=\"T_00e8c_row0_col3\" class=\"data row0 col3\" >T</td>\n",
              "      <td id=\"T_00e8c_row0_col4\" class=\"data row0 col4\" >Q</td>\n",
              "      <td id=\"T_00e8c_row0_col5\" class=\"data row0 col5\" >S</td>\n",
              "      <td id=\"T_00e8c_row0_col6\" class=\"data row0 col6\" >N</td>\n",
              "      <td id=\"T_00e8c_row0_col7\" class=\"data row0 col7\" >K</td>\n",
              "    </tr>\n",
              "    <tr>\n",
              "      <th id=\"T_00e8c_level0_row1\" class=\"row_heading level0 row1\" >1</th>\n",
              "      <td id=\"T_00e8c_row1_col0\" class=\"data row1 col0\" >P</td>\n",
              "      <td id=\"T_00e8c_row1_col1\" class=\"data row1 col1\" >A</td>\n",
              "      <td id=\"T_00e8c_row1_col2\" class=\"data row1 col2\" >C</td>\n",
              "      <td id=\"T_00e8c_row1_col3\" class=\"data row1 col3\" >V</td>\n",
              "      <td id=\"T_00e8c_row1_col4\" class=\"data row1 col4\" >K</td>\n",
              "      <td id=\"T_00e8c_row1_col5\" class=\"data row1 col5\" >X</td>\n",
              "      <td id=\"T_00e8c_row1_col6\" class=\"data row1 col6\" >Y</td>\n",
              "      <td id=\"T_00e8c_row1_col7\" class=\"data row1 col7\" >U</td>\n",
              "    </tr>\n",
              "    <tr>\n",
              "      <th id=\"T_00e8c_level0_row2\" class=\"row_heading level0 row2\" >2</th>\n",
              "      <td id=\"T_00e8c_row2_col0\" class=\"data row2 col0\" >E</td>\n",
              "      <td id=\"T_00e8c_row2_col1\" class=\"data row2 col1\" >B</td>\n",
              "      <td id=\"T_00e8c_row2_col2\" class=\"data row2 col2\" >N</td>\n",
              "      <td id=\"T_00e8c_row2_col3\" class=\"data row2 col3\" >L</td>\n",
              "      <td id=\"T_00e8c_row2_col4\" class=\"data row2 col4\" >A</td>\n",
              "      <td id=\"T_00e8c_row2_col5\" class=\"data row2 col5\" >W</td>\n",
              "      <td id=\"T_00e8c_row2_col6\" class=\"data row2 col6\" >Q</td>\n",
              "      <td id=\"T_00e8c_row2_col7\" class=\"data row2 col7\" >J</td>\n",
              "    </tr>\n",
              "    <tr>\n",
              "      <th id=\"T_00e8c_level0_row3\" class=\"row_heading level0 row3\" >3</th>\n",
              "      <td id=\"T_00e8c_row3_col0\" class=\"data row3 col0\" >T</td>\n",
              "      <td id=\"T_00e8c_row3_col1\" class=\"data row3 col1\" >B</td>\n",
              "      <td id=\"T_00e8c_row3_col2\" class=\"data row3 col2\" >J</td>\n",
              "      <td id=\"T_00e8c_row3_col3\" class=\"data row3 col3\" >N</td>\n",
              "      <td id=\"T_00e8c_row3_col4\" class=\"data row3 col4\" >M</td>\n",
              "      <td id=\"T_00e8c_row3_col5\" class=\"data row3 col5\" >Q</td>\n",
              "      <td id=\"T_00e8c_row3_col6\" class=\"data row3 col6\" >A</td>\n",
              "      <td id=\"T_00e8c_row3_col7\" class=\"data row3 col7\" >Y</td>\n",
              "    </tr>\n",
              "    <tr>\n",
              "      <th id=\"T_00e8c_level0_row4\" class=\"row_heading level0 row4\" >4</th>\n",
              "      <td id=\"T_00e8c_row4_col0\" class=\"data row4 col0\" >V</td>\n",
              "      <td id=\"T_00e8c_row4_col1\" class=\"data row4 col1\" >F</td>\n",
              "      <td id=\"T_00e8c_row4_col2\" class=\"data row4 col2\" >N</td>\n",
              "      <td id=\"T_00e8c_row4_col3\" class=\"data row4 col3\" >I</td>\n",
              "      <td id=\"T_00e8c_row4_col4\" class=\"data row4 col4\" >M</td>\n",
              "      <td id=\"T_00e8c_row4_col5\" class=\"data row4 col5\" >H</td>\n",
              "      <td id=\"T_00e8c_row4_col6\" class=\"data row4 col6\" >L</td>\n",
              "      <td id=\"T_00e8c_row4_col7\" class=\"data row4 col7\" >V</td>\n",
              "    </tr>\n",
              "    <tr>\n",
              "      <th id=\"T_00e8c_level0_row5\" class=\"row_heading level0 row5\" >5</th>\n",
              "      <td id=\"T_00e8c_row5_col0\" class=\"data row5 col0\" >Y</td>\n",
              "      <td id=\"T_00e8c_row5_col1\" class=\"data row5 col1\" >V</td>\n",
              "      <td id=\"T_00e8c_row5_col2\" class=\"data row5 col2\" >W</td>\n",
              "      <td id=\"T_00e8c_row5_col3\" class=\"data row5 col3\" >L</td>\n",
              "      <td id=\"T_00e8c_row5_col4\" class=\"data row5 col4\" >J</td>\n",
              "      <td id=\"T_00e8c_row5_col5\" class=\"data row5 col5\" >K</td>\n",
              "      <td id=\"T_00e8c_row5_col6\" class=\"data row5 col6\" >R</td>\n",
              "      <td id=\"T_00e8c_row5_col7\" class=\"data row5 col7\" >B</td>\n",
              "    </tr>\n",
              "    <tr>\n",
              "      <th id=\"T_00e8c_level0_row6\" class=\"row_heading level0 row6\" >6</th>\n",
              "      <td id=\"T_00e8c_row6_col0\" class=\"data row6 col0\" >R</td>\n",
              "      <td id=\"T_00e8c_row6_col1\" class=\"data row6 col1\" >C</td>\n",
              "      <td id=\"T_00e8c_row6_col2\" class=\"data row6 col2\" >H</td>\n",
              "      <td id=\"T_00e8c_row6_col3\" class=\"data row6 col3\" >H</td>\n",
              "      <td id=\"T_00e8c_row6_col4\" class=\"data row6 col4\" >J</td>\n",
              "      <td id=\"T_00e8c_row6_col5\" class=\"data row6 col5\" >M</td>\n",
              "      <td id=\"T_00e8c_row6_col6\" class=\"data row6 col6\" >R</td>\n",
              "      <td id=\"T_00e8c_row6_col7\" class=\"data row6 col7\" >M</td>\n",
              "    </tr>\n",
              "    <tr>\n",
              "      <th id=\"T_00e8c_level0_row7\" class=\"row_heading level0 row7\" >7</th>\n",
              "      <td id=\"T_00e8c_row7_col0\" class=\"data row7 col0\" >B</td>\n",
              "      <td id=\"T_00e8c_row7_col1\" class=\"data row7 col1\" >U</td>\n",
              "      <td id=\"T_00e8c_row7_col2\" class=\"data row7 col2\" >V</td>\n",
              "      <td id=\"T_00e8c_row7_col3\" class=\"data row7 col3\" >R</td>\n",
              "      <td id=\"T_00e8c_row7_col4\" class=\"data row7 col4\" >E</td>\n",
              "      <td id=\"T_00e8c_row7_col5\" class=\"data row7 col5\" >A</td>\n",
              "      <td id=\"T_00e8c_row7_col6\" class=\"data row7 col6\" >I</td>\n",
              "      <td id=\"T_00e8c_row7_col7\" class=\"data row7 col7\" >G</td>\n",
              "    </tr>\n",
              "  </tbody>\n",
              "</table>\n"
            ]
          },
          "metadata": {},
          "execution_count": 9
        }
      ]
    },
    {
      "cell_type": "code",
      "source": [],
      "metadata": {
        "id": "oqp2CY_W9Fr-"
      },
      "execution_count": null,
      "outputs": []
    },
    {
      "cell_type": "markdown",
      "source": [
        "# Homework Solution"
      ],
      "metadata": {
        "id": "pemq76ki-8pk"
      }
    },
    {
      "cell_type": "markdown",
      "source": [
        "## Deliverable 1\n",
        "Setup Google Colab and run the provided notebook and example.\n",
        "Add support for inserting multiple words in a puzzle. In order to do that, create two new functions:\n",
        "\n",
        "```\n",
        "add_words_to_broth(broth, words)\n",
        "create_thick_soup(dimensions, words, alphabet)\n",
        "```\n",
        "The first function (add_words_to_brorth) adds multiple words. Its argument \"words\" is a list of words in the form \"[\"WORD1\", \"WORD2\", ...].\n",
        "The second function (create_thick_soup) uses \"add_words_to_broth\" to create a puzzle with multiple words inserted.\n",
        "\n",
        "Create a 2-dimensional 16x16 soup with the following words added \"DATA\", \"MINING\", \"SJSU\", and display the results."
      ],
      "metadata": {
        "id": "BtuIsOkA_ADL"
      }
    },
    {
      "cell_type": "code",
      "source": [
        "!pip install numpy"
      ],
      "metadata": {
        "id": "PJfiNNRAhQR1",
        "colab": {
          "base_uri": "https://localhost:8080/"
        },
        "outputId": "aa9ff868-8ac8-417b-b8da-5885e4245c01"
      },
      "execution_count": null,
      "outputs": [
        {
          "output_type": "stream",
          "name": "stdout",
          "text": [
            "Requirement already satisfied: numpy in /usr/local/lib/python3.10/dist-packages (1.23.5)\n"
          ]
        }
      ]
    },
    {
      "cell_type": "code",
      "source": [
        "# Create the functions\n",
        "import numpy as np\n",
        "import random\n",
        "\n",
        "def add_word_to_broth(broth, word):\n",
        "    # This is a basic implementation, for brevity\n",
        "    # Assumes broth is a 2D numpy array and word is a string\n",
        "    rows, cols = broth.shape\n",
        "    start_row, start_col = random.randint(0, rows-1), random.randint(0, cols-1)\n",
        "    direction = random.choice(['H', 'V'])  # Horizontal or Vertical\n",
        "    if direction == 'H' and start_col + len(word) <= cols:\n",
        "        for idx, letter in enumerate(word):\n",
        "            broth[start_row, start_col+idx] = letter\n",
        "    elif direction == 'V' and start_row + len(word) <= rows:\n",
        "        for idx, letter in enumerate(word):\n",
        "            broth[start_row+idx, start_col] = letter\n",
        "    return broth\n",
        "\n",
        "def add_words_to_broth(broth, words):\n",
        "    for word in words:\n",
        "        broth = add_word_to_broth(broth, word)\n",
        "    return broth\n",
        "\n",
        "def create_thick_soup(dimensions, words, alphabet):\n",
        "    soup = np.random.choice(list(alphabet), (dimensions, dimensions))\n",
        "    return add_words_to_broth(soup, words)\n",
        "\n",
        "# Test\n",
        "soup = create_thick_soup(16, [\"DATA\", \"MINING\", \"SJSU\"], \"ABCDEFGHIJKLMNOPQRSTUVWXYZ\")\n",
        "print(soup)\n"
      ],
      "metadata": {
        "colab": {
          "base_uri": "https://localhost:8080/"
        },
        "id": "qj9BIeiDhyED",
        "outputId": "d8616908-40fc-4d13-c985-00d21098fab7"
      },
      "execution_count": null,
      "outputs": [
        {
          "output_type": "stream",
          "name": "stdout",
          "text": [
            "[['U' 'L' 'R' 'Q' 'V' 'P' 'P' 'E' 'B' 'B' 'P' 'I' 'Z' 'P' 'S' 'J']\n",
            " ['O' 'P' 'Y' 'U' 'X' 'B' 'O' 'C' 'I' 'R' 'D' 'Y' 'N' 'U' 'J' 'F']\n",
            " ['X' 'G' 'G' 'S' 'K' 'A' 'V' 'P' 'F' 'D' 'M' 'H' 'Z' 'O' 'U' 'I']\n",
            " ['H' 'P' 'S' 'N' 'I' 'J' 'C' 'M' 'F' 'C' 'M' 'O' 'Y' 'F' 'Z' 'M']\n",
            " ['H' 'A' 'C' 'U' 'K' 'A' 'S' 'B' 'T' 'T' 'Q' 'A' 'X' 'S' 'V' 'R']\n",
            " ['P' 'H' 'S' 'P' 'L' 'V' 'J' 'Z' 'M' 'W' 'G' 'N' 'A' 'E' 'X' 'C']\n",
            " ['F' 'C' 'B' 'E' 'G' 'B' 'I' 'W' 'D' 'W' 'F' 'R' 'N' 'D' 'Y' 'B']\n",
            " ['P' 'T' 'K' 'O' 'W' 'J' 'G' 'O' 'Y' 'O' 'K' 'P' 'N' 'E' 'F' 'Z']\n",
            " ['V' 'P' 'F' 'Y' 'T' 'E' 'Q' 'J' 'K' 'F' 'S' 'E' 'D' 'A' 'V' 'B']\n",
            " ['P' 'V' 'W' 'U' 'J' 'T' 'J' 'I' 'L' 'U' 'W' 'V' 'M' 'O' 'P' 'F']\n",
            " ['B' 'O' 'H' 'E' 'Q' 'S' 'V' 'L' 'C' 'G' 'K' 'A' 'E' 'J' 'R' 'R']\n",
            " ['K' 'L' 'U' 'V' 'N' 'S' 'H' 'K' 'L' 'Y' 'L' 'W' 'F' 'A' 'V' 'W']\n",
            " ['Y' 'J' 'V' 'P' 'T' 'A' 'S' 'Q' 'M' 'H' 'G' 'U' 'P' 'W' 'O' 'P']\n",
            " ['S' 'S' 'H' 'J' 'N' 'N' 'K' 'Q' 'I' 'P' 'M' 'I' 'N' 'I' 'N' 'G']\n",
            " ['C' 'S' 'R' 'F' 'O' 'K' 'T' 'A' 'S' 'U' 'C' 'W' 'A' 'N' 'X' 'A']\n",
            " ['N' 'W' 'G' 'W' 'X' 'G' 'U' 'S' 'E' 'J' 'R' 'T' 'P' 'G' 'Z' 'O']]\n"
          ]
        }
      ]
    },
    {
      "cell_type": "markdown",
      "source": [
        "## Deliverable 2\n",
        "The function that finds words in the puzzle is a very slow function with absolutely no optimization. Create a 2-dimensional soup of size 512 x 512. Insert the word \"MINING\" and measure the time to find the word using the provided function (find_word_in_plate).\n",
        "\n",
        "Create a new optimized function to find words:\n",
        "```\n",
        "find_word_in_plate_faster(word, soup_plate)\n",
        "```\n",
        "This new function should include at least one optimization that makes finding the word faster.\n",
        "\n",
        "Describe the optimization and how it helps finding words faster.\n",
        "Run the find_word_in_plate_faster function in the 512x512 puzzle above and report the new time."
      ],
      "metadata": {
        "id": "uNSkxiOA_EI-"
      }
    },
    {
      "cell_type": "code",
      "source": [
        "big_soup = create_thick_soup(512, [\"MINING\"], \"ABCDEFGHIJKLMNOPQRSTUVWXYZ\")\n"
      ],
      "metadata": {
        "id": "Aeu3k3jOVyc7"
      },
      "execution_count": null,
      "outputs": []
    },
    {
      "cell_type": "code",
      "source": [
        "# Define the slow function (assuming this was provided)\n",
        "def find_word_in_plate(word, soup_plate):\n",
        "    rows, cols = soup_plate.shape\n",
        "    directions = [(0, 1), (1, 0), (1, 1), (-1, -1), (1, -1), (-1, 1)]  # Right, Down, Diagonal right-down, Diagonal left-up, Diagonal right-up, Diagonal left-down\n",
        "\n",
        "    for i in range(rows):\n",
        "        for j in range(cols):\n",
        "            for dx, dy in directions:\n",
        "                end_i = i + dx * (len(word) - 1)\n",
        "                end_j = j + dy * (len(word) - 1)\n",
        "                if 0 <= end_i < rows and 0 <= end_j < cols:\n",
        "                    match = True\n",
        "                    for k in range(len(word)):\n",
        "                        if soup_plate[i + k * dx][j + k * dy] != word[k]:\n",
        "                            match = False\n",
        "                            break\n",
        "                    if match:\n",
        "                        return True\n",
        "    return False\n"
      ],
      "metadata": {
        "id": "cLH2oNS-NewT"
      },
      "execution_count": null,
      "outputs": []
    },
    {
      "cell_type": "code",
      "source": [
        "# Measure the time to find the word using the provided function\n",
        "import time\n",
        "\n",
        "start_time = time.time()\n",
        "find_word_in_plate(\"MINING\", big_soup)\n",
        "print(f\"Time taken: {time.time() - start_time:.4f} seconds\")\n"
      ],
      "metadata": {
        "colab": {
          "base_uri": "https://localhost:8080/"
        },
        "id": "_mUaRaWFNqsi",
        "outputId": "fd51c32d-8af5-4479-9f6f-3d157c6c74e4"
      },
      "execution_count": null,
      "outputs": [
        {
          "output_type": "stream",
          "name": "stdout",
          "text": [
            "Time taken: 1.9957 seconds\n"
          ]
        }
      ]
    },
    {
      "cell_type": "code",
      "source": [
        "# Create an optimized function\n",
        "def find_word_in_plate_faster(word, soup_plate):\n",
        "    rows, cols = soup_plate.shape\n",
        "    first_letter = word[0]\n",
        "    directions = [(0, 1), (1, 0), (1, 1), (-1, -1), (1, -1), (-1, 1)]\n",
        "\n",
        "    # Get positions of the first letter of the word\n",
        "    start_positions = [(i, j) for i in range(rows) for j in range(cols) if soup_plate[i][j] == first_letter]\n",
        "\n",
        "    for i, j in start_positions:\n",
        "        for dx, dy in directions:\n",
        "            end_i = i + dx * (len(word) - 1)\n",
        "            end_j = j + dy * (len(word) - 1)\n",
        "            if 0 <= end_i < rows and 0 <= end_j < cols:\n",
        "                match = True\n",
        "                for k in range(len(word)):\n",
        "                    if soup_plate[i + k * dx][j + k * dy] != word[k]:\n",
        "                        match = False\n",
        "                        break\n",
        "                if match:\n",
        "                    return True\n",
        "    return False\n"
      ],
      "metadata": {
        "id": "9aTpJciaNveK"
      },
      "execution_count": null,
      "outputs": []
    },
    {
      "cell_type": "code",
      "source": [
        "# Measure the time using the optimized function\n",
        "start_time = time.time()\n",
        "find_word_in_plate_faster(\"MINING\", big_soup)\n",
        "print(f\"Optimized time taken: {time.time() - start_time:.4f} seconds\")\n"
      ],
      "metadata": {
        "id": "43Eb7OXxN8_A",
        "outputId": "410eb407-413b-4edb-be7d-84abc479e5d9",
        "colab": {
          "base_uri": "https://localhost:8080/"
        }
      },
      "execution_count": null,
      "outputs": [
        {
          "output_type": "stream",
          "name": "stdout",
          "text": [
            "Optimized time taken: 0.6872 seconds\n"
          ]
        }
      ]
    }
  ],
  "metadata": {
    "kernelspec": {
      "display_name": "Python 3",
      "name": "python3"
    },
    "language_info": {
      "name": "python"
    },
    "colab": {
      "provenance": [],
      "cell_execution_strategy": "setup"
    }
  },
  "nbformat": 4,
  "nbformat_minor": 0
}